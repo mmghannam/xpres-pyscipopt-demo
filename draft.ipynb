{
  "nbformat": 4,
  "nbformat_minor": 0,
  "metadata": {
    "colab": {
      "provenance": [],
      "toc_visible": true
    },
    "kernelspec": {
      "name": "python3",
      "display_name": "Python 3"
    },
    "language_info": {
      "name": "python"
    }
  },
  "cells": [
    {
      "cell_type": "markdown",
      "source": [],
      "metadata": {
        "id": "IBYW92Mp3X2C"
      }
    },
    {
      "cell_type": "code",
      "execution_count": null,
      "metadata": {
        "colab": {
          "base_uri": "https://localhost:8080/"
        },
        "id": "h89D3pA924mD",
        "outputId": "253ab226-ad89-46bf-9e13-1ac8af94137a"
      },
      "outputs": [
        {
          "output_type": "stream",
          "name": "stdout",
          "text": [
            "Requirement already satisfied: pyscipopt in /usr/local/lib/python3.10/dist-packages (5.0.1)\n",
            "Collecting xpress\n",
            "  Downloading xpress-9.4.1-cp310-cp310-manylinux1_x86_64.whl (2.3 MB)\n",
            "\u001b[2K     \u001b[90m━━━━━━━━━━━━━━━━━━━━━━━━━━━━━━━━━━━━━━━━\u001b[0m \u001b[32m2.3/2.3 MB\u001b[0m \u001b[31m11.5 MB/s\u001b[0m eta \u001b[36m0:00:00\u001b[0m\n",
            "\u001b[?25hRequirement already satisfied: numpy<2.0a0,>=1.21 in /usr/local/lib/python3.10/dist-packages (from xpress) (1.25.2)\n",
            "Collecting xpresslibs==9.4.1 (from xpress)\n",
            "  Downloading xpresslibs-9.4.1-cp38-abi3-manylinux1_x86_64.whl (66.3 MB)\n",
            "\u001b[2K     \u001b[90m━━━━━━━━━━━━━━━━━━━━━━━━━━━━━━━━━━━━━━━━\u001b[0m \u001b[32m66.3/66.3 MB\u001b[0m \u001b[31m8.2 MB/s\u001b[0m eta \u001b[36m0:00:00\u001b[0m\n",
            "\u001b[?25hInstalling collected packages: xpresslibs, xpress\n",
            "Successfully installed xpress-9.4.1 xpresslibs-9.4.1\n"
          ]
        }
      ],
      "source": [
        "!pip install pyscipopt\n",
        "!pip install xpress"
      ]
    },
    {
      "cell_type": "code",
      "source": [
        "# xpress test\n",
        "import xpress as xp\n",
        "p = xp.problem(name='myexample')  # problem name (optional)\n",
        "x1 = p.addVariable(vartype=xp.integer, name='x1', lb=-10, ub=10)\n",
        "x2 = p.addVariable(name='x2')\n",
        "p.setObjective(x1**2 + 2*x2)      # objective function\n",
        "p.addConstraint(x1 + 3*x2 >= 4)   # one or more constraints\n",
        "p.optimize()\n",
        "print (\"solution: {0} = {1}; {2} = {3}\".format (x1.name, p.getSolution(x1), x2.name, p.getSolution(x2)))"
      ],
      "metadata": {
        "colab": {
          "base_uri": "https://localhost:8080/"
        },
        "id": "TSlLJxrD4j9f",
        "outputId": "c6b9025e-9a0a-4299-cd9f-508ee33bdae8"
      },
      "execution_count": null,
      "outputs": [
        {
          "output_type": "stream",
          "name": "stdout",
          "text": [
            "FICO Xpress v9.4.1, Community, solve started 8:20:58, Jun 21, 2024\n",
            "Heap usage: 387KB (peak 387KB, 102KB system)\n",
            "Minimizing MIQP myexample using up to 2 threads and up to 12GB memory, with these control settings:\n",
            "OUTPUTLOG = 1\n",
            "NLPPOSTSOLVE = 1\n",
            "XSLP_DELETIONCONTROL = 0\n",
            "XSLP_OBJSENSE = 1\n",
            "Original problem has:\n",
            "         1 rows            2 cols            2 elements         1 entities\n",
            "         1 qobjelem\n",
            "Presolved problem has:\n",
            "         1 rows            2 cols            2 elements         1 entities\n",
            "         1 qobjelem\n",
            "Presolve finished in 0 seconds\n",
            "Heap usage: 416KB (peak 431KB, 102KB system)\n",
            "\n",
            "Coefficient range                    original                 solved        \n",
            "  Coefficients   [min,max] : [ 1.00e+00,  3.00e+00] / [ 1.00e+00,  3.00e+00]\n",
            "  RHS and bounds [min,max] : [ 4.00e+00,  1.00e+01] / [ 4.00e+00,  1.00e+01]\n",
            "  Objective      [min,max] : [ 2.00e+00,  2.00e+00] / [ 2.00e+00,  2.00e+00]\n",
            "  Quadratic      [min,max] : [ 2.00e+00,  2.00e+00] / [ 2.00e+00,  2.00e+00]\n",
            "Autoscaling applied standard scaling\n",
            "\n",
            "Will try to keep branch and bound tree memory usage below 10.9GB\n",
            " *** Solution found:   109.333333   Time:   0.00    Heuristic: T ***\n",
            " \n",
            "   Its         Obj Value      S   Ninf  Nneg   Sum Dual Inf  Time\n",
            "     0           .000000      D      1     0        .000000     0\n",
            "     1           .000000      D      0     0        .000000     0\n",
            "     1         16.000000      P      0     0        .000000     0\n",
            " \n",
            "   Its         Obj Value      S   Nsft  Nneg       Dual Inf  Time\n",
            "     2          2.555556     QP      0     0        .000000     0\n",
            "QP solution found\n",
            "Optimal solution found\n",
            "Primal solved problem\n",
            "  2 simplex iterations in 0.00 seconds at time 0\n",
            "\n",
            "Final objective                       : 2.555555555555555e+00\n",
            "  Max primal violation      (abs/rel) :       0.0 /       0.0\n",
            "  Max dual violation        (abs/rel) :       0.0 /       0.0\n",
            "  Max complementarity viol. (abs/rel) : 2.171e-15 / 7.237e-16\n",
            "\n",
            "Starting root cutting & heuristics\n",
            " \n",
            " Its Type    BestSoln    BestBound   Sols    Add    Del     Gap     GInf   Time\n",
            "a            2.666667     2.555556      2                  4.17%       0      0\n",
            " *** Search completed ***\n",
            "Uncrunching matrix\n",
            "Final MIP objective                   : 2.666666666666667e+00\n",
            "Final MIP bound                       : 2.666656666666666e+00\n",
            "  Solution time / primaldual integral :      0.02s/ 69.029537%\n",
            "  Number of solutions found / nodes   :         2 /         1\n",
            "  Max primal violation      (abs/rel) :       0.0 /       0.0\n",
            "  Max integer violation     (abs    ) :       0.0\n",
            "solution: x1 = 0.0; x2 = 1.3333333333333333\n"
          ]
        },
        {
          "output_type": "stream",
          "name": "stderr",
          "text": [
            "<ipython-input-12-5c5dcf6989aa>:3: LicenseWarning: Using the Community license in this session. If you have a full Xpress license, pass the full path to your license file to xpress.init(). If you want to use the FICO Community license and no longer want to see this message, use the following code before using the xpress module:\n",
            "  xpress.init('/usr/local/lib/python3.10/dist-packages/xpress/license/community-xpauth.xpr')\n",
            "\n",
            "  p = xp.problem(name='myexample')  # problem name (optional)\n"
          ]
        }
      ]
    },
    {
      "cell_type": "code",
      "source": [
        "from pyscipopt import Model\n",
        "from pyscipopt.recipes.nonlinear import set_nonlinear_objective\n",
        "\n",
        "p = Model()\n",
        "p.redirectOutput()\n",
        "\n",
        "x1 = p.addVar(vtype=\"integer\", name=\"x1\", lb=-10, ub=10)\n",
        "x2 = p.addVar(name=\"x2\")\n",
        "\n",
        "set_nonlinear_objective(p, x1**2 + 2*x2)\n",
        "p.addCons(x1 + 3*x2 >= 4)\n",
        "p.optimize()\n",
        "print (p.getBestSol())"
      ],
      "metadata": {
        "colab": {
          "base_uri": "https://localhost:8080/"
        },
        "collapsed": true,
        "id": "gHflZXYH276p",
        "outputId": "00114fa8-be0b-4978-ef01-02b66dd82326"
      },
      "execution_count": null,
      "outputs": [
        {
          "output_type": "stream",
          "name": "stdout",
          "text": [
            "presolving:\n",
            "(round 1, fast)       0 del vars, 0 del conss, 0 add conss, 2 chg bounds, 0 chg sides, 0 chg coeffs, 0 upgd conss, 0 impls, 0 clqs\n",
            "(round 2, exhaustive) 0 del vars, 0 del conss, 0 add conss, 2 chg bounds, 0 chg sides, 0 chg coeffs, 1 upgd conss, 0 impls, 0 clqs\n",
            "   (0.0s) symmetry computation started: requiring (bin +, int +, cont +), (fixed: bin -, int -, cont -)\n",
            "   (0.0s) no symmetry present (symcode time: 0.00)\n",
            "presolving (3 rounds: 3 fast, 2 medium, 2 exhaustive):\n",
            " 0 deleted vars, 0 deleted constraints, 0 added constraints, 2 tightened bounds, 0 added holes, 0 changed sides, 0 changed coefficients\n",
            " 0 implications, 0 cliques\n",
            "presolved problem has 3 variables (0 bin, 1 int, 0 impl, 2 cont) and 2 constraints\n",
            "      1 constraints of type <varbound>\n",
            "      1 constraints of type <nonlinear>\n",
            "Presolving Time: 0.00\n",
            "\n",
            " time | node  | left  |LP iter|LP it/n|mem/heur|mdpt |vars |cons |rows |cuts |sepa|confs|strbr|  dualbound   | primalbound  |  gap   | compl. \n",
            "t 0.0s|     1 |     0 |     0 |     - | trivial|   0 |   3 |   2 |   0 |   0 |  0 |   0 |   0 |-1.000000e-09 | 1.000000e+05 |    Inf | unknown\n",
            "  0.0s|     1 |     0 |     3 |     - |   619k |   0 |   5 |   2 |   4 |   0 |  0 |   0 |   0 | 1.777778e-01 | 1.000000e+05 |  Large | unknown\n",
            "t 0.0s|     1 |     0 |     3 |     - |  trysol|   0 |   5 |   2 |   4 |   0 |  0 |   0 |   0 | 1.777778e-01 | 1.600000e+01 |8900.00%| unknown\n",
            "  0.0s|     1 |     0 |     3 |     - |   626k |   0 |   5 |   2 |   4 |   0 |  0 |   0 |   0 | 1.777778e-01 | 1.600000e+01 |8900.00%| unknown\n",
            "  0.0s|     1 |     0 |     3 |     - |   626k |   0 |   5 |   2 |   4 |   0 |  0 |   0 |   0 | 1.777778e-01 | 1.600000e+01 |8900.00%| unknown\n",
            "  0.1s|     1 |     0 |     3 |     - |   626k |   0 |   5 |   2 |   4 |   0 |  0 |   0 |   0 | 1.777778e-01 | 1.600000e+01 |8900.00%| unknown\n",
            "  0.1s|     1 |     0 |     4 |     - |   629k |   0 |   5 |   2 |   5 |   1 |  1 |   0 |   0 | 1.523810e+00 | 1.600000e+01 | 950.00%| unknown\n",
            "t 0.1s|     1 |     0 |     4 |     - |  trysol|   0 |   5 |   2 |   5 |   1 |  1 |   0 |   0 | 1.523810e+00 | 5.333333e+00 | 250.00%| unknown\n",
            "  0.1s|     1 |     0 |     4 |     - |   629k |   0 |   5 |   2 |   5 |   1 |  1 |   0 |   0 | 1.523810e+00 | 5.333333e+00 | 250.00%| unknown\n",
            "  0.1s|     1 |     0 |     4 |     - |   629k |   0 |   5 |   2 |   5 |   1 |  1 |   0 |   0 | 1.523810e+00 | 5.333333e+00 | 250.00%| unknown\n",
            "  0.1s|     1 |     0 |     4 |     - |   629k |   0 |   5 |   2 |   5 |   1 |  1 |   0 |   0 | 1.523810e+00 | 5.333333e+00 | 250.00%| unknown\n",
            "  0.1s|     1 |     0 |     5 |     - |   634k |   0 |   5 |   2 |   6 |   2 |  2 |   0 |   0 | 2.222222e+00 | 5.333333e+00 | 140.00%| unknown\n",
            "r 0.1s|     1 |     0 |     5 |     - |shifting|   0 |   5 |   2 |   6 |   2 |  2 |   0 |   0 | 2.222222e+00 | 3.000000e+00 |  35.00%| unknown\n",
            "  0.1s|     1 |     0 |     5 |     - |   634k |   0 |   5 |   2 |   6 |   2 |  2 |   0 |   0 | 2.222222e+00 | 3.000000e+00 |  35.00%| unknown\n",
            "  0.1s|     1 |     0 |     5 |     - |   634k |   0 |   5 |   2 |   6 |   2 |  2 |   0 |   0 | 2.222222e+00 | 3.000000e+00 |  35.00%| unknown\n",
            " time | node  | left  |LP iter|LP it/n|mem/heur|mdpt |vars |cons |rows |cuts |sepa|confs|strbr|  dualbound   | primalbound  |  gap   | compl. \n",
            "  0.1s|     1 |     0 |     5 |     - |   634k |   0 |   5 |   2 |   6 |   2 |  2 |   0 |   0 | 2.222222e+00 | 3.000000e+00 |  35.00%| unknown\n",
            "  0.1s|     1 |     0 |     5 |     - |   634k |   0 |   5 |   2 |   6 |   2 |  2 |   0 |   0 | 2.222222e+00 | 3.000000e+00 |  35.00%| unknown\n",
            "  0.1s|     1 |     0 |     6 |     - |   639k |   0 |   5 |   2 |   4 |   7 |  3 |   0 |   0 | 2.666667e+00 | 3.000000e+00 |  12.50%| unknown\n",
            "  0.1s|     1 |     0 |     6 |     - |   639k |   0 |   5 |   2 |   3 |   7 |  3 |   0 |   0 | 2.666667e+00 | 3.000000e+00 |  12.50%| unknown\n",
            "  0.1s|     1 |     0 |     6 |     - |   639k |   0 |   5 |   2 |   2 |   7 |  3 |   0 |   0 | 2.666667e+00 | 3.000000e+00 |  12.50%| unknown\n",
            "  0.2s|     1 |     0 |     6 |     - |   639k |   0 |   5 |   2 |   2 |   7 |  4 |   0 |   0 | 2.666667e+00 | 3.000000e+00 |  12.50%| unknown\n",
            "  0.2s|     1 |     0 |     6 |     - |   639k |   0 |   5 |   1 |   2 |   7 |  5 |   0 |   0 | 2.666667e+00 | 3.000000e+00 |  12.50%| unknown\n",
            "* 0.2s|     1 |     0 |     6 |     - |    LP  |   0 |   5 |   1 |   2 |   7 |  6 |   0 |   0 | 2.666667e+00 | 2.666667e+00 |   0.00%| unknown\n",
            "\n",
            "SCIP Status        : problem is solved [optimal solution found]\n",
            "Solving Time (sec) : 0.19\n",
            "Solving Nodes      : 1\n",
            "Primal Bound       : +2.66666666666667e+00 (7 solutions)\n",
            "Dual Bound         : +2.66666666666667e+00\n",
            "Gap                : 0.00 %\n",
            "{'x1': 0.0, 'x2': 1.3333333333333333, 'x3': 2.6666666666666665}\n"
          ]
        }
      ]
    }
  ]
}